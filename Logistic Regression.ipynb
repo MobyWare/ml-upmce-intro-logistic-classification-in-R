{
 "cells": [
  {
   "cell_type": "markdown",
   "metadata": {},
   "source": [
    "# Logistic Regression for Isotope Identification Evaluation\n",
    "\n",
    "\n",
    "\n",
    "\n"
   ]
  },
  {
   "cell_type": "markdown",
   "metadata": {},
   "source": [
    "### Prerequisites\n",
    "#### 1) Install r essentials\n",
    "You need the R kernel to run this script. install via ```conda install -c r r-essentials```\n",
    "\n",
    "#### 2) Set Package Mirror\n",
    "You also need the `install.packages('popbio')` in R for fancy loghist plots. Nee dto set the mirror for that.\n",
    "\n",
    "##### Option 1 - Update the config file\n",
    "Update your ```Rprofile.site``` file to set the mirror. It may be at path ```C:\\Users\\<user>\\AppData\\Local\\Continuum\\Anaconda2\\R\\etc```\n",
    "\n",
    "##### Option 2 - Use the commands below"
   ]
  },
  {
   "cell_type": "code",
   "execution_count": null,
   "metadata": {
    "collapsed": false
   },
   "outputs": [],
   "source": [
    "#Option 2 - Set CRAN mirror.\n",
    "local({\n",
    "  r <- getOption(\"repos\")\n",
    "  r[\"CRAN\"] <- \"https://cran.rstudio.com/\"\n",
    "  options(repos = r)\n",
    "})"
   ]
  },
  {
   "cell_type": "code",
   "execution_count": null,
   "metadata": {
    "collapsed": false
   },
   "outputs": [],
   "source": [
    "install.packages('popbio')\n",
    "library('popbio')\n",
    "\n",
    "data <- read.csv(\"id.r.csv\")\n"
   ]
  },
  {
   "cell_type": "markdown",
   "metadata": {},
   "source": [
    "Clean up names and add label column and take a peak."
   ]
  },
  {
   "cell_type": "code",
   "execution_count": null,
   "metadata": {
    "collapsed": false
   },
   "outputs": [],
   "source": [
    "colnames(data)[1] <- \"Source\"\n",
    "colnames(data)[2] <- \"TTI.s\"\n",
    "data$both_correct <- data$correct1 * data$correct2\n",
    "head(data)"
   ]
  },
  {
   "cell_type": "code",
   "execution_count": null,
   "metadata": {
    "collapsed": false
   },
   "outputs": [],
   "source": [
    "plot(data$CL1, data$correct1)"
   ]
  },
  {
   "cell_type": "markdown",
   "metadata": {},
   "source": [
    "## Simplest Fit that could work\n",
    "\n",
    "We want to predict whether the identification is correct based on the available data. We will focus on the first listed isotope and confidence level first.\n",
    "\n",
    "Logistic Regression is a type of Generalized Linear Model, `glm` in R, specfied by choosing the binomial family.\n",
    "\n",
    "https://stat.ethz.ch/R-manual/R-devel/library/stats/html/family.html for more details."
   ]
  },
  {
   "cell_type": "code",
   "execution_count": null,
   "metadata": {
    "collapsed": false
   },
   "outputs": [],
   "source": [
    "glm1 <- glm(correct1 ~ CL1, binomial, data)\n",
    "summary(glm1)\n"
   ]
  },
  {
   "cell_type": "code",
   "execution_count": null,
   "metadata": {
    "collapsed": false,
    "scrolled": false
   },
   "outputs": [],
   "source": [
    "plot(glm1)"
   ]
  },
  {
   "cell_type": "markdown",
   "metadata": {},
   "source": [
    "## Add Second Isotope and timing information\n",
    "\n",
    "We really want to know if both isotopes reported are correct so lets extend the model and change which label we are trying to predict."
   ]
  },
  {
   "cell_type": "code",
   "execution_count": null,
   "metadata": {
    "collapsed": false
   },
   "outputs": [],
   "source": [
    "glm2 <- glm(both_correct ~ CL1 + CL2 + TTI.s, binomial, data)\n",
    "summary(glm2)"
   ]
  },
  {
   "cell_type": "markdown",
   "metadata": {},
   "source": [
    "## Slightly Different Look at data\n",
    "\n",
    "Let's treat the two isotopes independently, adding the order on screen as a dummy variable.\n",
    "\n",
    "\n"
   ]
  },
  {
   "cell_type": "code",
   "execution_count": null,
   "metadata": {
    "collapsed": false
   },
   "outputs": [],
   "source": [
    "data.single <- read.csv(\"id.r.single.csv\")\n",
    "colnames(data.single)[1] <- \"Source\"\n",
    "colnames(data.single)[2] <- \"TTI.s\"\n",
    "\n",
    "head(data.single)"
   ]
  },
  {
   "cell_type": "markdown",
   "metadata": {},
   "source": [
    "### Here we build a model with all the binary and continuous features."
   ]
  },
  {
   "cell_type": "code",
   "execution_count": null,
   "metadata": {
    "collapsed": false
   },
   "outputs": [],
   "source": [
    "glm.single <- glm(correct ~ CL + TTI.s + bolus  + num, binomial, data.single)\n",
    "summary(glm.single)"
   ]
  },
  {
   "cell_type": "markdown",
   "metadata": {},
   "source": [
    "### We can examine the predicted values of the linear model. The response option is needed to retreive the probability instead of the \"z\" of the linear model."
   ]
  },
  {
   "cell_type": "code",
   "execution_count": null,
   "metadata": {
    "collapsed": false
   },
   "outputs": [],
   "source": [
    "head(predict(glm.single, type = \"response\"))"
   ]
  },
  {
   "cell_type": "markdown",
   "metadata": {},
   "source": [
    "### By exponentiating the coefficents we compute the odds ratio for a unit increase per feature."
   ]
  },
  {
   "cell_type": "code",
   "execution_count": null,
   "metadata": {
    "collapsed": false
   },
   "outputs": [],
   "source": [
    "exp(coef(glm.single))"
   ]
  },
  {
   "cell_type": "code",
   "execution_count": null,
   "metadata": {
    "collapsed": false
   },
   "outputs": [],
   "source": [
    "drop1(glm.single, test=\"Chisq\")"
   ]
  },
  {
   "cell_type": "markdown",
   "metadata": {},
   "source": [
    "## Simplify and recompute\n",
    "\n",
    "So lets drop TTI and bolus and look again..."
   ]
  },
  {
   "cell_type": "code",
   "execution_count": null,
   "metadata": {
    "collapsed": false
   },
   "outputs": [],
   "source": [
    "glm.single.final <- glm(correct ~ CL + num, binomial, data.single)\n",
    "summary(glm.single.final)"
   ]
  },
  {
   "cell_type": "markdown",
   "metadata": {},
   "source": [
    "### Compare the new model to the old via Analysis of Variance (ANOVA)"
   ]
  },
  {
   "cell_type": "code",
   "execution_count": null,
   "metadata": {
    "collapsed": false
   },
   "outputs": [],
   "source": [
    "anova(glm.single, glm.single.final)"
   ]
  },
  {
   "cell_type": "code",
   "execution_count": null,
   "metadata": {
    "collapsed": false
   },
   "outputs": [],
   "source": [
    "plot(data.single$CL, data.single$correct, col = \"black\")\n",
    "curve(predict(glm.single.final, data.frame(CL=x, num=0),type=\"resp\"), add=TRUE, col = \"red\")\n",
    "curve(predict(glm.single.final, data.frame(CL=x, num=1),type=\"resp\"), add=TRUE, col = \"blue\")"
   ]
  },
  {
   "cell_type": "markdown",
   "metadata": {},
   "source": [
    "## Fancy plot"
   ]
  },
  {
   "cell_type": "code",
   "execution_count": null,
   "metadata": {
    "collapsed": false
   },
   "outputs": [],
   "source": [
    "data.single <- na.omit(data.single)\n",
    "\n",
    "logi.hist.plot(data.single$CL,data.single$correct,boxp=FALSE,type=\"hist\")\n"
   ]
  },
  {
   "cell_type": "markdown",
   "metadata": {},
   "source": [
    "## Further things to try\n",
    "\n",
    "* Use the isotope identified as a factor, some may be biased more than seen in CL alone. \n",
    "* Interaction terms, `term1*term2 =  term1 + term2 + term1:term2`\n",
    "* add1, and search can test this automatically given a scope of interactions and features to consider\n"
   ]
  }
 ],
 "metadata": {
  "kernelspec": {
   "display_name": "R",
   "language": "R",
   "name": "ir"
  },
  "language_info": {
   "codemirror_mode": "r",
   "file_extension": ".r",
   "mimetype": "text/x-r-source",
   "name": "R",
   "pygments_lexer": "r",
   "version": "3.2.3"
  }
 },
 "nbformat": 4,
 "nbformat_minor": 0
}
